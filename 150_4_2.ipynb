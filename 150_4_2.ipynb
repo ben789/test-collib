{
  "nbformat": 4,
  "nbformat_minor": 0,
  "metadata": {
    "colab": {
      "name": "150_4_2.ipynb",
      "provenance": [],
      "authorship_tag": "ABX9TyPDwPOhKyut9nAM2jp9j5qL",
      "include_colab_link": true
    },
    "kernelspec": {
      "name": "python3",
      "display_name": "Python 3"
    },
    "language_info": {
      "name": "python"
    }
  },
  "cells": [
    {
      "cell_type": "markdown",
      "metadata": {
        "id": "view-in-github",
        "colab_type": "text"
      },
      "source": [
        "<a href=\"https://colab.research.google.com/github/ben789/test-collib/blob/main/150_4_2.ipynb\" target=\"_parent\"><img src=\"https://colab.research.google.com/assets/colab-badge.svg\" alt=\"Open In Colab\"/></a>"
      ]
    },
    {
      "cell_type": "code",
      "execution_count": 1,
      "metadata": {
        "colab": {
          "base_uri": "https://localhost:8080/"
        },
        "id": "3XHAlDIbiAsk",
        "outputId": "feacbd93-ec76-49ab-9c17-2acb8bf1064a"
      },
      "outputs": [
        {
          "output_type": "stream",
          "name": "stdout",
          "text": [
            "Hello World\n"
          ]
        }
      ],
      "source": [
        "print('Hello World')"
      ]
    },
    {
      "cell_type": "markdown",
      "source": [
        "### first line\n"
      ],
      "metadata": {
        "id": "qijUeyjRlLJn"
      }
    },
    {
      "cell_type": "code",
      "source": [
        "print('Hello gethub')"
      ],
      "metadata": {
        "id": "XI_yrfwzjyEd"
      },
      "execution_count": null,
      "outputs": []
    },
    {
      "cell_type": "markdown",
      "source": [
        "### last"
      ],
      "metadata": {
        "id": "t3ftMsMalVlX"
      }
    },
    {
      "cell_type": "code",
      "source": [
        "print('last line')"
      ],
      "metadata": {
        "id": "4yMe7Y0tlea3"
      },
      "execution_count": null,
      "outputs": []
    },
    {
      "cell_type": "code",
      "source": [
        "import uuid\n",
        "\n",
        "\n",
        "class Product:\n",
        "\n",
        "    def __init__(self, product_name, product_id, price):\n",
        "        self.product_name = product_name\n",
        "        self.product_id = product_id\n",
        "        self.price = price\n",
        "\n",
        "    def __repr__(self):\n",
        "        return f\"Product(product_name='{self.product_name}', price={self.price})\"\n",
        "\n",
        "      \n",
        "\n",
        "product = Product('Mobile Phone', '54274', 2900)\n",
        "print(product.__dict__)"
      ],
      "metadata": {
        "colab": {
          "base_uri": "https://localhost:8080/"
        },
        "id": "5EPAOGmTltIG",
        "outputId": "ac73fb66-eca6-40a8-bf41-356af4770632"
      },
      "execution_count": 19,
      "outputs": [
        {
          "output_type": "stream",
          "name": "stdout",
          "text": [
            "{'product_name': 'Mobile Phone', 'product_id': '54274', 'price': 2900}\n"
          ]
        }
      ]
    }
  ]
}