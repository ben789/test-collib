{
  "nbformat": 4,
  "nbformat_minor": 0,
  "metadata": {
    "colab": {
      "name": "Intro1.ipynb",
      "provenance": [],
      "authorship_tag": "ABX9TyNwUHw2va5KEbYci41ia2hy",
      "include_colab_link": true
    },
    "kernelspec": {
      "name": "python3",
      "display_name": "Python 3"
    },
    "language_info": {
      "name": "python"
    }
  },
  "cells": [
    {
      "cell_type": "markdown",
      "metadata": {
        "id": "view-in-github",
        "colab_type": "text"
      },
      "source": [
        "<a href=\"https://colab.research.google.com/github/ben789/test-collib/blob/main/Intro1.ipynb\" target=\"_parent\"><img src=\"https://colab.research.google.com/assets/colab-badge.svg\" alt=\"Open In Colab\"/></a>"
      ]
    },
    {
      "cell_type": "code",
      "execution_count": 1,
      "metadata": {
        "colab": {
          "base_uri": "https://localhost:8080/"
        },
        "id": "3XHAlDIbiAsk",
        "outputId": "feacbd93-ec76-49ab-9c17-2acb8bf1064a"
      },
      "outputs": [
        {
          "output_type": "stream",
          "name": "stdout",
          "text": [
            "Hello World\n"
          ]
        }
      ],
      "source": [
        "print('Hello World')"
      ]
    },
    {
      "cell_type": "markdown",
      "source": [
        "### first line\n"
      ],
      "metadata": {
        "id": "qijUeyjRlLJn"
      }
    },
    {
      "cell_type": "code",
      "source": [
        "print('Hello gethub')"
      ],
      "metadata": {
        "id": "XI_yrfwzjyEd"
      },
      "execution_count": null,
      "outputs": []
    },
    {
      "cell_type": "markdown",
      "source": [
        "### last"
      ],
      "metadata": {
        "id": "t3ftMsMalVlX"
      }
    },
    {
      "cell_type": "code",
      "source": [
        "print('last line')"
      ],
      "metadata": {
        "id": "4yMe7Y0tlea3"
      },
      "execution_count": null,
      "outputs": []
    }
  ]
}